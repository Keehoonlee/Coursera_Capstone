{
 "cells": [
  {
   "cell_type": "markdown",
   "metadata": {},
   "source": [
    "# Capstone Project - The Battle of Neighborhoods "
   ]
  },
  {
   "cell_type": "markdown",
   "metadata": {},
   "source": [
    "# Description of Problem"
   ]
  },
  {
   "cell_type": "markdown",
   "metadata": {},
   "source": [
    "In this project, I will try to find out the best place to start the restaurant business in New York, New York. New York is the most populous and densely populated city with estimated population of 8,500,000 people. Also, millions of tourists visit the city each year, making it a good place to start a restaurant business. However, the problem is that starting a restaurant business in the city becomes more competitive every year due to rising costs and visitors' expectations. In this notebook, we will be going over some of the features of New York City and find out which type of cusines would best fit each district. Current/future restaurant owners would benefit from the analysis.\n",
    "\n",
    "In order to define which features should be used to determine whether a place is good, we will examine several criteria. For instance, if someone is looking to open a French restaurant in a certain location, then we will be looking at the features such as:\n",
    "- Popular cuisine types nearby\n",
    "- Number of French restaurants nearby\n",
    "- Type of district\n",
    "- Number of traffic\n",
    "\n",
    "We will be segmenting the city based on ZIP code and clustering neighborhoods. We will be looking at the most common venue categories in each neighborhood, and then use this feature to group the neighborhoods into clusters. \n"
   ]
  },
  {
   "cell_type": "markdown",
   "metadata": {},
   "source": [
    "# Description of Data"
   ]
  },
  {
   "cell_type": "markdown",
   "metadata": {
    "collapsed": true
   },
   "source": [
    "We will be using following data sources and libraries to solve the problem:\n",
    "- New York City neighborhood dataset\n",
    " - https://geo.nyu.edu/catalog/nyu_2451_34572\n",
    " - https://cocl.us/new_york_dataset\n",
    "- Wikipedia Zip Code data\n",
    "- Geocode \n",
    " - Convert Zip Code data into longitude, latitude pair\n",
    "- Foursquare API \n",
    " - Get relevant information based on the location\n",
    "- List of Cuisine Types\n",
    " - https://en.wikipedia.org/wiki/List_of_cuisines\n",
    "- folium\n",
    " - Visualize data\n",
    "\n",
    "We will be using various data sources, and we would spend most of the time cleaning and preparing the data. We will get geographic information of New York City using Wikipedia, Geocode, and other available dataset and use Foursquare API to obtain the restaurant information of the locations. Also, if the time allows, we will be visualizing data with folium."
   ]
  },
  {
   "cell_type": "code",
   "execution_count": null,
   "metadata": {},
   "outputs": [],
   "source": []
  }
 ],
 "metadata": {
  "kernelspec": {
   "display_name": "Python 3.6",
   "language": "python",
   "name": "python3"
  },
  "language_info": {
   "codemirror_mode": {
    "name": "ipython",
    "version": 3
   },
   "file_extension": ".py",
   "mimetype": "text/x-python",
   "name": "python",
   "nbconvert_exporter": "python",
   "pygments_lexer": "ipython3",
   "version": "3.6.8"
  }
 },
 "nbformat": 4,
 "nbformat_minor": 1
}
