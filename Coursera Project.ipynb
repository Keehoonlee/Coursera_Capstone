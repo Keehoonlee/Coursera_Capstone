{
 "cells": [
  {
   "cell_type": "markdown",
   "metadata": {},
   "source": [
    "# Capstone Project - The Battle of Neighborhoods "
   ]
  },
  {
   "cell_type": "markdown",
   "metadata": {},
   "source": [
    "# Description of Problem"
   ]
  },
  {
   "cell_type": "markdown",
   "metadata": {},
   "source": [
    "In this project, I will try to find out the best place to start the restaurant business in Seattle, Washington. Seattle is the northernmost largest city and one of the fastest growing city in United States. There are about 750,000 population living in the city. Current/future restaurant owners would benefit from the analysis.\n",
    "\n",
    "In order to define which features should be used to determine whether a place is good, we will examine several criteria. For instance, if someone is looking to open a French restaurant in a certain location, then we will be looking at the features such as:\n",
    "- Popular cuisine types nearby\n",
    "- Number of French restaurants nearby\n",
    "- Type of district\n",
    "- Number of traffic\n",
    "\n",
    "We will be segmenting the city based on ZIP code and clustering neighborhoods. We will be looking at the most common venue categories in each neighborhood, and then use this feature to group the neighborhoods into clusters. \n"
   ]
  },
  {
   "cell_type": "markdown",
   "metadata": {},
   "source": [
    "# Description of Data"
   ]
  },
  {
   "cell_type": "markdown",
   "metadata": {
    "collapsed": true
   },
   "source": [
    "We will be using following data sources to solve the problem:\n",
    "- Wikipedia Zip Code data\n",
    "- Geocode - Convert Zip Code data into longitude, latitude pair\n",
    "- Foursquare API - Get relevant information based on the location\n",
    "\n",
    "We will get geographic information of Seattle using Wikipedia and Geocode and use Foursquare API to obtain the restaurant information of the locations."
   ]
  },
  {
   "cell_type": "code",
   "execution_count": null,
   "metadata": {},
   "outputs": [],
   "source": []
  }
 ],
 "metadata": {
  "kernelspec": {
   "display_name": "Python 3.6",
   "language": "python",
   "name": "python3"
  },
  "language_info": {
   "codemirror_mode": {
    "name": "ipython",
    "version": 3
   },
   "file_extension": ".py",
   "mimetype": "text/x-python",
   "name": "python",
   "nbconvert_exporter": "python",
   "pygments_lexer": "ipython3",
   "version": "3.6.8"
  }
 },
 "nbformat": 4,
 "nbformat_minor": 1
}
